{
 "cells": [
  {
   "cell_type": "code",
   "execution_count": 1,
   "metadata": {},
   "outputs": [],
   "source": [
    "from SimpleSpeechCommands import get_word_dict_v2, get_dataset_partition, reduce_examples\n",
    "from SimpleSpeechCommands import check_label_dist, export_partition_file,read_list"
   ]
  },
  {
   "cell_type": "code",
   "execution_count": 2,
   "metadata": {},
   "outputs": [],
   "source": [
    "word_to_label,label_to_word = get_word_dict_v2()\n",
    "#path_dataset = '/home/edoardobucheli/TFSpeechCommands/train/audio'\n",
    "path_dataset = '/home/edoardobucheli/Datasets/SpeechCommands_v0.02/audio'\n",
    "sr = 16000\n",
    "file_length = 16000"
   ]
  },
  {
   "cell_type": "markdown",
   "metadata": {},
   "source": [
    "## Creating the Lists"
   ]
  },
  {
   "cell_type": "code",
   "execution_count": 3,
   "metadata": {},
   "outputs": [],
   "source": [
    "n_classes = 20"
   ]
  },
  {
   "cell_type": "code",
   "execution_count": 4,
   "metadata": {},
   "outputs": [],
   "source": [
    "training_files, validation_files, testing_files = get_dataset_partition(path_dataset,10,10)"
   ]
  },
  {
   "cell_type": "code",
   "execution_count": 5,
   "metadata": {},
   "outputs": [],
   "source": [
    "training_files = reduce_examples(training_files,n_classes,0.3,word_to_label)\n",
    "validation_files = reduce_examples(validation_files,n_classes,0.3,word_to_label)\n",
    "testing_files = reduce_examples(testing_files,n_classes,0.3,word_to_label)"
   ]
  },
  {
   "cell_type": "code",
   "execution_count": 6,
   "metadata": {},
   "outputs": [
    {
     "data": {
      "text/plain": [
       "{'yes': 3228,\n",
       " 'no': 3130,\n",
       " 'up': 2948,\n",
       " 'down': 3134,\n",
       " 'left': 3037,\n",
       " 'right': 3019,\n",
       " 'on': 3086,\n",
       " 'off': 2970,\n",
       " 'stop': 3111,\n",
       " 'go': 3106,\n",
       " 'zero': 3250,\n",
       " 'one': 3140,\n",
       " 'two': 3111,\n",
       " 'three': 2966,\n",
       " 'four': 2955,\n",
       " 'five': 3240,\n",
       " 'six': 3088,\n",
       " 'seven': 3205,\n",
       " 'eight': 3033,\n",
       " 'nine': 3170,\n",
       " '<unk>': 6853,\n",
       " '<silence>': 0}"
      ]
     },
     "execution_count": 6,
     "metadata": {},
     "output_type": "execute_result"
    }
   ],
   "source": [
    "check_label_dist(training_files,word_to_label,label_to_word,22)"
   ]
  },
  {
   "cell_type": "code",
   "execution_count": 7,
   "metadata": {},
   "outputs": [
    {
     "data": {
      "text/plain": [
       "{'yes': 397,\n",
       " 'no': 406,\n",
       " 'up': 350,\n",
       " 'down': 377,\n",
       " 'left': 352,\n",
       " 'right': 363,\n",
       " 'on': 363,\n",
       " 'off': 373,\n",
       " 'stop': 350,\n",
       " 'go': 372,\n",
       " 'zero': 384,\n",
       " 'one': 351,\n",
       " 'two': 345,\n",
       " 'three': 356,\n",
       " 'four': 373,\n",
       " 'five': 367,\n",
       " 'six': 378,\n",
       " 'seven': 387,\n",
       " 'eight': 346,\n",
       " 'nine': 356,\n",
       " '<unk>': 745}"
      ]
     },
     "execution_count": 7,
     "metadata": {},
     "output_type": "execute_result"
    }
   ],
   "source": [
    "check_label_dist(validation_files,word_to_label,label_to_word,21)"
   ]
  },
  {
   "cell_type": "code",
   "execution_count": 8,
   "metadata": {
    "scrolled": false
   },
   "outputs": [
    {
     "data": {
      "text/plain": [
       "{'yes': 419,\n",
       " 'no': 405,\n",
       " 'up': 425,\n",
       " 'down': 406,\n",
       " 'left': 412,\n",
       " 'right': 396,\n",
       " 'on': 396,\n",
       " 'off': 402,\n",
       " 'stop': 411,\n",
       " 'go': 402,\n",
       " 'zero': 418,\n",
       " 'one': 399,\n",
       " 'two': 424,\n",
       " 'three': 405,\n",
       " 'four': 400,\n",
       " 'five': 445,\n",
       " 'six': 394,\n",
       " 'seven': 406,\n",
       " 'eight': 408,\n",
       " 'nine': 408,\n",
       " '<unk>': 849}"
      ]
     },
     "execution_count": 8,
     "metadata": {},
     "output_type": "execute_result"
    }
   ],
   "source": [
    "check_label_dist(testing_files,word_to_label,label_to_word,21)"
   ]
  },
  {
   "cell_type": "code",
   "execution_count": 9,
   "metadata": {},
   "outputs": [],
   "source": [
    "export_partition_file(training_files,'training_files.txt')\n",
    "export_partition_file(validation_files,'validation_files.txt')\n",
    "export_partition_file(testing_files,'testing_files.txt')"
   ]
  },
  {
   "cell_type": "markdown",
   "metadata": {},
   "source": [
    "## Loading the Lists"
   ]
  },
  {
   "cell_type": "code",
   "execution_count": 3,
   "metadata": {},
   "outputs": [],
   "source": [
    "training_files = read_list(path_dataset,'training_files.txt')\n",
    "validation_files = read_list(path_dataset,'validation_files.txt')\n",
    "testing_files = read_list(path_dataset,'testing_files.txt')"
   ]
  },
  {
   "cell_type": "code",
   "execution_count": 4,
   "metadata": {},
   "outputs": [
    {
     "data": {
      "text/plain": [
       "{'yes': 1860,\n",
       " 'no': 1853,\n",
       " 'up': 1843,\n",
       " 'down': 1842,\n",
       " 'left': 1839,\n",
       " 'right': 1852,\n",
       " 'on': 1864,\n",
       " 'off': 1839,\n",
       " 'stop': 1885,\n",
       " 'go': 1861,\n",
       " '<unk>': 6574}"
      ]
     },
     "execution_count": 4,
     "metadata": {},
     "output_type": "execute_result"
    }
   ],
   "source": [
    "check_label_dist(training_files,word_to_label,label_to_word)"
   ]
  },
  {
   "cell_type": "code",
   "execution_count": 5,
   "metadata": {},
   "outputs": [
    {
     "data": {
      "text/plain": [
       "{'yes': 261,\n",
       " 'no': 270,\n",
       " 'up': 260,\n",
       " 'down': 264,\n",
       " 'left': 247,\n",
       " 'right': 256,\n",
       " 'on': 257,\n",
       " 'off': 256,\n",
       " 'stop': 246,\n",
       " 'go': 260,\n",
       " '<unk>': 847}"
      ]
     },
     "execution_count": 5,
     "metadata": {},
     "output_type": "execute_result"
    }
   ],
   "source": [
    "check_label_dist(validation_files,word_to_label,label_to_word)"
   ]
  },
  {
   "cell_type": "code",
   "execution_count": 6,
   "metadata": {},
   "outputs": [
    {
     "data": {
      "text/plain": [
       "{'yes': 256,\n",
       " 'no': 252,\n",
       " 'up': 272,\n",
       " 'down': 253,\n",
       " 'left': 267,\n",
       " 'right': 259,\n",
       " 'on': 246,\n",
       " 'off': 262,\n",
       " 'stop': 249,\n",
       " 'go': 251,\n",
       " '<unk>': 863}"
      ]
     },
     "execution_count": 6,
     "metadata": {},
     "output_type": "execute_result"
    }
   ],
   "source": [
    "check_label_dist(testing_files,word_to_label,label_to_word)"
   ]
  },
  {
   "cell_type": "code",
   "execution_count": null,
   "metadata": {},
   "outputs": [],
   "source": []
  }
 ],
 "metadata": {
  "kernelspec": {
   "display_name": "Python 3",
   "language": "python",
   "name": "python3"
  },
  "language_info": {
   "codemirror_mode": {
    "name": "ipython",
    "version": 3
   },
   "file_extension": ".py",
   "mimetype": "text/x-python",
   "name": "python",
   "nbconvert_exporter": "python",
   "pygments_lexer": "ipython3",
   "version": "3.6.7"
  }
 },
 "nbformat": 4,
 "nbformat_minor": 2
}
