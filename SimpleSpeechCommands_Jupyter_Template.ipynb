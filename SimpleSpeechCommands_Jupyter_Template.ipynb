{
 "cells": [
  {
   "cell_type": "code",
   "execution_count": 1,
   "metadata": {},
   "outputs": [],
   "source": [
    "import matplotlib.pyplot as plt\n",
    "import numpy as np\n",
    "from IPython.display import Audio\n",
    "import librosa\n",
    "import librosa.display"
   ]
  },
  {
   "cell_type": "code",
   "execution_count": 2,
   "metadata": {},
   "outputs": [],
   "source": [
    "from tensorflow.keras.optimizers import Adam\n",
    "from sklearn.metrics import confusion_matrix, classification_report"
   ]
  },
  {
   "cell_type": "markdown",
   "metadata": {},
   "source": [
    "## Load Data"
   ]
  },
  {
   "cell_type": "code",
   "execution_count": 3,
   "metadata": {},
   "outputs": [],
   "source": [
    "from SimpleSpeechCommands import get_word_dict, read_list, load_data\n",
    "from SimpleSpeechCommands import append_examples,partition_directory"
   ]
  },
  {
   "cell_type": "code",
   "execution_count": 4,
   "metadata": {},
   "outputs": [],
   "source": [
    "word_to_label,label_to_word = get_word_dict()\n",
    "path_dataset = '/home/edoardobucheli/TFSpeechCommands/train/audio'\n",
    "sr = 16000\n",
    "file_length = 16000"
   ]
  },
  {
   "cell_type": "code",
   "execution_count": 5,
   "metadata": {},
   "outputs": [],
   "source": [
    "training_files = read_list(path_dataset,'training_files.txt')\n",
    "validation_files = read_list(path_dataset,'validation_files.txt')\n",
    "testing_files = read_list(path_dataset,'testing_files.txt')"
   ]
  },
  {
   "cell_type": "code",
   "execution_count": 6,
   "metadata": {},
   "outputs": [
    {
     "name": "stderr",
     "output_type": "stream",
     "text": [
      "100%|██████████| 25112/25112 [00:08<00:00, 2993.26it/s]\n",
      "100%|██████████| 3424/3424 [00:01<00:00, 2981.59it/s]\n",
      "100%|██████████| 3430/3430 [00:01<00:00, 3015.75it/s]\n"
     ]
    }
   ],
   "source": [
    "x_train,y_train = load_data(training_files,sr,file_length,path_dataset,word_to_label)\n",
    "x_val,y_val = load_data(validation_files,sr,file_length,path_dataset,word_to_label)\n",
    "x_test,y_test = load_data(testing_files,sr,file_length,path_dataset,word_to_label)"
   ]
  },
  {
   "cell_type": "code",
   "execution_count": 7,
   "metadata": {},
   "outputs": [],
   "source": [
    "backgrounds = partition_directory(path_dataset,'_background_noise_',sr,file_length)"
   ]
  },
  {
   "cell_type": "code",
   "execution_count": 8,
   "metadata": {},
   "outputs": [],
   "source": [
    "x_train,y_train = append_examples(x_train,y_train,backgrounds[:300],11)\n",
    "x_val,y_val = append_examples(x_val,y_val,backgrounds[300:320],11)\n",
    "x_test,y_test = append_examples(x_test,y_test,backgrounds[320:],11)"
   ]
  },
  {
   "cell_type": "code",
   "execution_count": 9,
   "metadata": {},
   "outputs": [
    {
     "name": "stdout",
     "output_type": "stream",
     "text": [
      "(25412, 16000)\n",
      "(25412,)\n",
      "(3444, 16000)\n",
      "(3444,)\n",
      "(3508, 16000)\n",
      "(3508,)\n"
     ]
    }
   ],
   "source": [
    "print(x_train.shape)\n",
    "print(y_train.shape)\n",
    "print(x_val.shape)\n",
    "print(y_val.shape)\n",
    "print(x_test.shape)\n",
    "print(y_test.shape)"
   ]
  },
  {
   "cell_type": "markdown",
   "metadata": {},
   "source": [
    "## Preprocess Data"
   ]
  },
  {
   "cell_type": "code",
   "execution_count": 10,
   "metadata": {},
   "outputs": [],
   "source": [
    "from ProcessAudio import normalize_waveforms, normalize_2D\n",
    "from ProcessAudio import power_spect_set, mel_spec_set, mfcc_set"
   ]
  },
  {
   "cell_type": "markdown",
   "metadata": {},
   "source": [
    "Normalize (1) Waveform or (2) Spectrogram"
   ]
  },
  {
   "cell_type": "code",
   "execution_count": 11,
   "metadata": {},
   "outputs": [],
   "source": [
    "n_fft = 512\n",
    "hop_length = 512"
   ]
  },
  {
   "cell_type": "code",
   "execution_count": 12,
   "metadata": {},
   "outputs": [
    {
     "name": "stderr",
     "output_type": "stream",
     "text": [
      "100%|██████████| 25412/25412 [00:10<00:00, 2492.04it/s]\n"
     ]
    }
   ],
   "source": [
    "x_train = normalize_waveforms(x_train)\n",
    "x_train_2 = power_spect_set(x_train,sr,n_fft,hop_length)\n",
    "x_train_2 = normalize_2D(x_train_2)"
   ]
  },
  {
   "cell_type": "code",
   "execution_count": 13,
   "metadata": {},
   "outputs": [
    {
     "name": "stderr",
     "output_type": "stream",
     "text": [
      "100%|██████████| 3444/3444 [00:01<00:00, 2520.45it/s]\n"
     ]
    }
   ],
   "source": [
    "x_val = normalize_waveforms(x_val)\n",
    "x_val_2 = power_spect_set(x_val,sr,n_fft,hop_length)\n",
    "x_val_2 = normalize_2D(x_val_2)"
   ]
  },
  {
   "cell_type": "code",
   "execution_count": 14,
   "metadata": {},
   "outputs": [
    {
     "name": "stderr",
     "output_type": "stream",
     "text": [
      "100%|██████████| 3508/3508 [00:01<00:00, 2547.71it/s]\n"
     ]
    }
   ],
   "source": [
    "x_test = normalize_waveforms(x_test)\n",
    "x_test_2 = power_spect_set(x_test,sr,n_fft,hop_length)\n",
    "x_test_2 = normalize_2D(x_test_2)"
   ]
  },
  {
   "cell_type": "code",
   "execution_count": 15,
   "metadata": {},
   "outputs": [],
   "source": [
    "def average_dob(x,freq_res,frames):\n",
    "    \n",
    "    x_2 = np.zeros((len(x),freq_res,frames))\n",
    "    \n",
    "    for i,spec in enumerate(x):\n",
    "        for j in range(128):\n",
    "            indx = j*2\n",
    "            x_2[i,j,:] = (spec[indx]+spec[indx+1])/2\n",
    "            \n",
    "    return x_2"
   ]
  },
  {
   "cell_type": "code",
   "execution_count": 16,
   "metadata": {},
   "outputs": [],
   "source": [
    "x_train_2 = average_dob(x_train_2,129,32)\n",
    "x_val_2 = average_dob(x_val_2,129,32)\n",
    "x_test_2 = average_dob(x_test_2,129,32)"
   ]
  },
  {
   "cell_type": "markdown",
   "metadata": {},
   "source": [
    "## Other Processing"
   ]
  },
  {
   "cell_type": "code",
   "execution_count": 17,
   "metadata": {},
   "outputs": [],
   "source": [
    "from Utilities import make_oh"
   ]
  },
  {
   "cell_type": "code",
   "execution_count": 18,
   "metadata": {},
   "outputs": [],
   "source": [
    "N_train, _, _ = x_train_2.shape\n",
    "N_val, _, _ = x_val_2.shape\n",
    "N_test, _, _ = x_test_2.shape\n",
    "\n",
    "frames = int(np.ceil(sr/hop_length))\n",
    "n_classes = len(np.unique(y_train))"
   ]
  },
  {
   "cell_type": "code",
   "execution_count": 19,
   "metadata": {},
   "outputs": [],
   "source": [
    "y_train_oh = make_oh(y_train)\n",
    "y_val_oh = make_oh(y_val)\n",
    "y_test_oh = make_oh(y_test)"
   ]
  },
  {
   "cell_type": "code",
   "execution_count": 20,
   "metadata": {},
   "outputs": [
    {
     "name": "stdout",
     "output_type": "stream",
     "text": [
      "(25412, 129, 32)\n",
      "(25412, 12)\n",
      "(3444, 129, 32)\n",
      "(3444, 12)\n",
      "(3508, 129, 32)\n",
      "(3508, 12)\n"
     ]
    }
   ],
   "source": [
    "print(x_train_2.shape)\n",
    "print(y_train_oh.shape)\n",
    "print(x_val_2.shape)\n",
    "print(y_val_oh.shape)\n",
    "print(x_test_2.shape)\n",
    "print(y_test_oh.shape)"
   ]
  },
  {
   "cell_type": "code",
   "execution_count": 21,
   "metadata": {},
   "outputs": [],
   "source": [
    "x_train_2 = np.reshape(x_train_2,(N_train,129,frames,1))\n",
    "x_val_2 = np.reshape(x_val_2,(N_val,129,frames,1))\n",
    "x_test_2 = np.reshape(x_test_2,(N_test,129,frames,1))"
   ]
  },
  {
   "cell_type": "code",
   "execution_count": null,
   "metadata": {},
   "outputs": [],
   "source": []
  }
 ],
 "metadata": {
  "kernelspec": {
   "display_name": "Python 3",
   "language": "python",
   "name": "python3"
  },
  "language_info": {
   "codemirror_mode": {
    "name": "ipython",
    "version": 3
   },
   "file_extension": ".py",
   "mimetype": "text/x-python",
   "name": "python",
   "nbconvert_exporter": "python",
   "pygments_lexer": "ipython3",
   "version": "3.6.7"
  }
 },
 "nbformat": 4,
 "nbformat_minor": 2
}
