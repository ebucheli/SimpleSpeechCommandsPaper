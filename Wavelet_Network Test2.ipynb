{
 "cells": [
  {
   "cell_type": "code",
   "execution_count": 1,
   "metadata": {},
   "outputs": [
    {
     "name": "stderr",
     "output_type": "stream",
     "text": [
      "/Users/edoardobucheli/anaconda3/lib/python3.6/site-packages/h5py/__init__.py:36: FutureWarning: Conversion of the second argument of issubdtype from `float` to `np.floating` is deprecated. In future, it will be treated as `np.float64 == np.dtype(float).type`.\n",
      "  from ._conv import register_converters as _register_converters\n",
      "Using TensorFlow backend.\n"
     ]
    }
   ],
   "source": [
    "import tensorflow as tf\n",
    "import numpy as np\n",
    "import matplotlib.pyplot as plt\n",
    "\n",
    "from keras.datasets import mnist\n",
    "\n",
    "from Utilities import make_oh"
   ]
  },
  {
   "cell_type": "code",
   "execution_count": 2,
   "metadata": {},
   "outputs": [],
   "source": [
    "(x_train, y_train), (x_test, y_test) = mnist.load_data()"
   ]
  },
  {
   "cell_type": "code",
   "execution_count": 3,
   "metadata": {},
   "outputs": [],
   "source": [
    "y_train_2 = make_oh(y_train)\n",
    "y_test_2 = make_oh(y_test)"
   ]
  },
  {
   "cell_type": "code",
   "execution_count": 4,
   "metadata": {},
   "outputs": [],
   "source": [
    "x = tf.placeholder(dtype = tf.float32, shape = (None,28,28), name = 'x_input')\n",
    "y = tf.placeholder(dtype = tf.float32, shape = (None,10), name = 'labels')\n",
    "\n",
    "d_1 = tf.get_variable(name = 'dilation_1',dtype = tf.float32, initializer=tf.constant(0.2, dtype = tf.float32))\n",
    "t_1 = tf.get_variable(name = 'translation_1', dtype = tf.float32, initializer=tf.constant(0.0, dtype = tf.float32))\n",
    "\n",
    "#d_2 = tf.get_variable(name = 'dilation_2',dtype = tf.float32, initializer=tf.constant(0.2, dtype = tf.float32))\n",
    "#t_2 = tf.get_variable(name = 'translation_2', dtype = tf.float32, initializer=tf.constant(0.0, dtype = tf.float32))\n",
    "\n",
    "d_3 = tf.get_variable(name = 'dilation_3',dtype = tf.float32, initializer=tf.constant(0.2, dtype = tf.float32))\n",
    "t_3 = tf.get_variable(name = 'translation_3', dtype = tf.float32, initializer=tf.constant(0.0, dtype = tf.float32))"
   ]
  },
  {
   "cell_type": "code",
   "execution_count": 5,
   "metadata": {},
   "outputs": [],
   "source": [
    "def wavelet_act(x,d,t):\n",
    "    x = tf.multiply(d,(x-t))\n",
    "    return x*tf.exp(-0.5*x**2)"
   ]
  },
  {
   "cell_type": "code",
   "execution_count": 6,
   "metadata": {},
   "outputs": [],
   "source": [
    "def mexican_hat_wt(x,d,t):\n",
    "    x = (x-t)\n",
    "    tf_pi = tf.constant(np.pi,dtype=tf.float32)\n",
    "    #f = tf.constant(0.1, dtype = tf.float32)\n",
    "    #return (1-x**2)*tf.exp(-x**2)\n",
    "    return (1-2*(tf_pi**2)*(d**2)*(x**2))*tf.exp(-(tf_pi**2)*(d**2)*x**2)"
   ]
  },
  {
   "cell_type": "code",
   "execution_count": 7,
   "metadata": {},
   "outputs": [],
   "source": [
    "#check_wt = mexican_hat_wt(x,d_1,t_1)\n",
    "\n",
    "x_new = tf.expand_dims(x,axis = -1)\n",
    "\n",
    "z_1 = tf.layers.conv2d(x_new,32,[3,3])\n",
    "a_1 = mexican_hat_wt(z_1,d_1,t_1)\n",
    "\n",
    "#z_2 = tf.layers.conv2d(a_1,64,[3,3])\n",
    "#a_2 = mexican_hat_wt(z_2,d_2,t_2)\n",
    "\n",
    "max_pool_1 = tf.layers.max_pooling2d(a_1,[2,2],[2,2])\n",
    "\n",
    "flat = tf.layers.flatten(max_pool_1)\n",
    "\n",
    "fc_z_1 = tf.layers.Dense(32,activation=None)(flat)\n",
    "fc_a_1 = mexican_hat_wt(fc_z_1,d_3,t_3)\n",
    "\n",
    "\n",
    "logits = tf.layers.Dense(10)(fc_a_1)\n",
    "y_hat = tf.argmax(tf.nn.softmax(logits),axis = 1)\n",
    "\n",
    "acc = tf.reduce_mean(tf.cast(tf.equal(y_hat,tf.argmax(y,axis = 1)),dtype = tf.float32))"
   ]
  },
  {
   "cell_type": "code",
   "execution_count": 8,
   "metadata": {},
   "outputs": [],
   "source": [
    "loss = tf.nn.softmax_cross_entropy_with_logits_v2(labels = y, logits=logits)\n",
    "optimizer = tf.train.AdamOptimizer()\n",
    "\n",
    "tr_step = optimizer.minimize(loss)"
   ]
  },
  {
   "cell_type": "code",
   "execution_count": 9,
   "metadata": {},
   "outputs": [],
   "source": [
    "iters = 500"
   ]
  },
  {
   "cell_type": "code",
   "execution_count": null,
   "metadata": {
    "scrolled": true
   },
   "outputs": [],
   "source": [
    "with tf.Session() as sess:\n",
    "\n",
    "    sess.run(tf.global_variables_initializer())\n",
    "\n",
    "    for i in range(iters):\n",
    "        this_acc,_ = sess.run([acc,tr_step],feed_dict = {x:x_train,y:y_train_2})\n",
    "        \n",
    "        if i%5 == 0:\n",
    "            this_test_acc = sess.run(acc, feed_dict = {x:x_test,y:y_test_2})\n",
    "            this_d, this_t = sess.run([d_1,t_1])\n",
    "            print('It {:d}:\\tTrain Acc {:02.2f}%\\n\\tTest Acc {:02.2f}%\\n'.format(i,this_acc*100,this_test_acc*100))  \n",
    "            print('d: {:01.2f}, t: {:01.2f}\\n'.format(this_d,this_t))\n",
    "        elif i == iters-1:\n",
    "            this_test_acc = sess.run(acc, feed_dict = {x:x_test,y:y_test_2})\n",
    "            this_d, this_t = sess.run([d_1,t_1])\n",
    "            print('Final It:\\tTrain Acc {:02.2f}%\\n\\tTest Acc {:02.2f}%'.format(this_acc*100,this_test_acc*100))  \n",
    "            print('d: {:01.2f}, t: {:01.2f}\\n'.format(this_d,this_t))\n",
    "    \n",
    "    #check_values = np.linspace(-10,10,num = 784)\n",
    "    #check_values = np.reshape(check_values,(1,784))\n",
    "    \n",
    "    #edo = sess.run(check_wt,feed_dict = {x:check_values})"
   ]
  },
  {
   "cell_type": "code",
   "execution_count": 14,
   "metadata": {},
   "outputs": [
    {
     "data": {
      "text/plain": [
       "[<matplotlib.lines.Line2D at 0x105f71ba8>]"
      ]
     },
     "execution_count": 14,
     "metadata": {},
     "output_type": "execute_result"
    },
    {
     "data": {
      "image/png": "[encoded data removed]",
      "text/plain": [
       "<Figure size 432x288 with 1 Axes>"
      ]
     },
     "metadata": {},
     "output_type": "display_data"
    }
   ],
   "source": [
    "plt.plot(np.reshape(check_values,(784,)),np.reshape(edo,(784,)))"
   ]
  },
  {
   "cell_type": "code",
   "execution_count": null,
   "metadata": {},
   "outputs": [],
   "source": []
  }
 ],
 "metadata": {
  "kernelspec": {
   "display_name": "Python 3",
   "language": "python",
   "name": "python3"
  },
  "language_info": {
   "codemirror_mode": {
    "name": "ipython",
    "version": 3
   },
   "file_extension": ".py",
   "mimetype": "text/x-python",
   "name": "python",
   "nbconvert_exporter": "python",
   "pygments_lexer": "ipython3",
   "version": "3.6.5"
  }
 },
 "nbformat": 4,
 "nbformat_minor": 2
}
