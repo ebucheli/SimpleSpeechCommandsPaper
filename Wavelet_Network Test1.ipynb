{
 "cells": [
  {
   "cell_type": "code",
   "execution_count": 4,
   "metadata": {},
   "outputs": [
    {
     "name": "stderr",
     "output_type": "stream",
     "text": [
      "Using TensorFlow backend.\n"
     ]
    }
   ],
   "source": [
    "import tensorflow as tf\n",
    "import numpy as np\n",
    "import matplotlib.pyplot as plt\n",
    "\n",
    "from keras.datasets import mnist\n",
    "\n",
    "from Utilities import make_oh"
   ]
  },
  {
   "cell_type": "code",
   "execution_count": 5,
   "metadata": {},
   "outputs": [],
   "source": [
    "(x_train, y_train), (x_test, y_test) = mnist.load_data()"
   ]
  },
  {
   "cell_type": "code",
   "execution_count": 6,
   "metadata": {},
   "outputs": [],
   "source": [
    "x_train_2 = np.reshape(x_train,(len(x_train),784))/255\n",
    "x_test_2 = np.reshape(x_test, (len(x_test),784))/255"
   ]
  },
  {
   "cell_type": "code",
   "execution_count": 7,
   "metadata": {},
   "outputs": [],
   "source": [
    "y_train_2 = make_oh(y_train)\n",
    "y_test_2 = make_oh(y_test)"
   ]
  },
  {
   "cell_type": "code",
   "execution_count": 8,
   "metadata": {},
   "outputs": [],
   "source": [
    "x = tf.placeholder(dtype = tf.float32, shape = (None,784), name = 'x_input')\n",
    "y = tf.placeholder(dtype = tf.float32, shape = (None,10), name = 'labels')\n",
    "\n",
    "d = tf.get_variable(name = 'dilation',dtype = tf.float32, initializer=tf.constant(0.2, dtype = tf.float32))\n",
    "t = tf.get_variable(name = 'translation', dtype = tf.float32, initializer=tf.constant(0.0, dtype = tf.float32))"
   ]
  },
  {
   "cell_type": "code",
   "execution_count": 9,
   "metadata": {},
   "outputs": [],
   "source": [
    "def wavelet_act(x,d,t):\n",
    "    x = tf.multiply(d,(x-t))\n",
    "    return x*tf.exp(-0.5*x**2)"
   ]
  },
  {
   "cell_type": "code",
   "execution_count": 10,
   "metadata": {},
   "outputs": [],
   "source": [
    "def mexican_hat_wt(x,d,t):\n",
    "    x = (x-t)\n",
    "    tf_pi = tf.constant(np.pi,dtype=tf.float32)\n",
    "    #f = tf.constant(0.1, dtype = tf.float32)\n",
    "    #return (1-x**2)*tf.exp(-x**2)\n",
    "    return (1-2*(tf_pi**2)*(d**2)*(x**2))*tf.exp(-(tf_pi**2)*(d**2)*x**2)"
   ]
  },
  {
   "cell_type": "code",
   "execution_count": 26,
   "metadata": {},
   "outputs": [],
   "source": [
    "check_wt = mexican_hat_wt(x,d,t)\n",
    "\n",
    "z_1 = tf.layers.Dense(64, activation=None)(x)\n",
    "a_1 = mexican_hat_wt(z_1,d,t)\n",
    "\n",
    "logits = tf.layers.Dense(10)(a_1)\n",
    "y_hat = tf.argmax(tf.nn.softmax(logits),axis = 1)\n",
    "\n",
    "acc = tf.reduce_mean(tf.cast(tf.equal(y_hat,tf.argmax(y,axis = 1)),dtype = tf.float32))"
   ]
  },
  {
   "cell_type": "code",
   "execution_count": 27,
   "metadata": {},
   "outputs": [],
   "source": [
    "loss = tf.nn.softmax_cross_entropy_with_logits_v2(labels = y, logits=logits)\n",
    "optimizer = tf.train.AdamOptimizer()\n",
    "\n",
    "tr_step = optimizer.minimize(loss)"
   ]
  },
  {
   "cell_type": "code",
   "execution_count": 28,
   "metadata": {},
   "outputs": [],
   "source": [
    "iters = 500"
   ]
  },
  {
   "cell_type": "code",
   "execution_count": 31,
   "metadata": {
    "scrolled": false
   },
   "outputs": [
    {
     "name": "stdout",
     "output_type": "stream",
     "text": [
      "It 0:\tTrain Acc 10.00%\n",
      "\tTest Acc 13.71%\n",
      "\n",
      "d: 0.20, t: -0.00\n",
      "\n",
      "It 50:\tTrain Acc 88.08%\n",
      "\tTest Acc 88.98%\n",
      "\n",
      "d: 0.24, t: 0.01\n",
      "\n",
      "It 100:\tTrain Acc 92.16%\n",
      "\tTest Acc 92.37%\n",
      "\n",
      "d: 0.25, t: 0.01\n",
      "\n",
      "It 150:\tTrain Acc 93.76%\n",
      "\tTest Acc 93.68%\n",
      "\n",
      "d: 0.25, t: 0.01\n",
      "\n",
      "It 200:\tTrain Acc 94.73%\n",
      "\tTest Acc 94.46%\n",
      "\n",
      "d: 0.26, t: 0.02\n",
      "\n",
      "It 250:\tTrain Acc 95.48%\n",
      "\tTest Acc 94.91%\n",
      "\n",
      "d: 0.26, t: 0.02\n",
      "\n",
      "It 300:\tTrain Acc 96.08%\n",
      "\tTest Acc 95.16%\n",
      "\n",
      "d: 0.27, t: 0.02\n",
      "\n",
      "It 350:\tTrain Acc 96.58%\n",
      "\tTest Acc 95.54%\n",
      "\n",
      "d: 0.27, t: 0.02\n",
      "\n",
      "It 400:\tTrain Acc 97.04%\n",
      "\tTest Acc 95.83%\n",
      "\n",
      "d: 0.28, t: 0.02\n",
      "\n",
      "It 450:\tTrain Acc 97.41%\n",
      "\tTest Acc 96.00%\n",
      "\n",
      "d: 0.28, t: 0.02\n",
      "\n",
      "Final It:\tTrain Acc 97.74%\n",
      "\tTest Acc 96.13%\n",
      "d: 0.29, t: 0.02\n",
      "\n"
     ]
    }
   ],
   "source": [
    "with tf.Session() as sess:\n",
    "\n",
    "    sess.run(tf.global_variables_initializer())\n",
    "\n",
    "    for i in range(iters):\n",
    "        this_acc,_ = sess.run([acc,tr_step],feed_dict = {x:x_train_2,y:y_train_2})\n",
    "        \n",
    "        if i%50 == 0:\n",
    "            this_test_acc = sess.run(acc, feed_dict = {x:x_test_2,y:y_test_2})\n",
    "            this_d, this_t = sess.run([d,t])\n",
    "            print('It {:d}:\\tTrain Acc {:02.2f}%\\n\\tTest Acc {:02.2f}%\\n'.format(i,this_acc*100,this_test_acc*100))  \n",
    "            print('d: {:01.2f}, t: {:01.2f}\\n'.format(this_d,this_t))\n",
    "        elif i == iters-1:\n",
    "            this_test_acc = sess.run(acc, feed_dict = {x:x_test_2,y:y_test_2})\n",
    "            this_d, this_t = sess.run([d,t])\n",
    "            print('Final It:\\tTrain Acc {:02.2f}%\\n\\tTest Acc {:02.2f}%'.format(this_acc*100,this_test_acc*100))  \n",
    "            print('d: {:01.2f}, t: {:01.2f}\\n'.format(this_d,this_t))\n",
    "    \n",
    "    check_values = np.linspace(-10,10,num = 784)\n",
    "    check_values = np.reshape(check_values,(1,784))\n",
    "    \n",
    "    edo = sess.run(check_wt,feed_dict = {x:check_values})"
   ]
  },
  {
   "cell_type": "code",
   "execution_count": 32,
   "metadata": {},
   "outputs": [
    {
     "data": {
      "text/plain": [
       "[<matplotlib.lines.Line2D at 0x7fd77a2bbd68>]"
      ]
     },
     "execution_count": 32,
     "metadata": {},
     "output_type": "execute_result"
    },
    {
     "data": {
      "image/png": "[encoded data removed]",
      "text/plain": [
       "<Figure size 432x288 with 1 Axes>"
      ]
     },
     "metadata": {
      "needs_background": "light"
     },
     "output_type": "display_data"
    }
   ],
   "source": [
    "plt.plot(np.reshape(check_values,(784,)),np.reshape(edo,(784,)))"
   ]
  },
  {
   "cell_type": "code",
   "execution_count": null,
   "metadata": {},
   "outputs": [],
   "source": []
  }
 ],
 "metadata": {
  "kernelspec": {
   "display_name": "Python 3",
   "language": "python",
   "name": "python3"
  },
  "language_info": {
   "codemirror_mode": {
    "name": "ipython",
    "version": 3
   },
   "file_extension": ".py",
   "mimetype": "text/x-python",
   "name": "python",
   "nbconvert_exporter": "python",
   "pygments_lexer": "ipython3",
   "version": "3.6.7"
  }
 },
 "nbformat": 4,
 "nbformat_minor": 2
}
